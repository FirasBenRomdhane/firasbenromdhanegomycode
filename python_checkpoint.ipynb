{
 "cells": [
  {
   "cell_type": "code",
   "execution_count": 1,
   "metadata": {},
   "outputs": [
    {
     "name": "stdout",
     "output_type": "stream",
     "text": [
      "2002 2009 2016 2023 2037 2044 2051 2058 2072 2079 2086 2093 2107 2114 2121 2128 2142 2149 2156 2163 2177 2184 2191 2198 2212 2219 2226 2233 2247 2254 2261 2268 2282 2289 2296 2303 2317 2324 2331 2338 2352 2359 2366 2373 2387 2394 2401 2408 2422 2429 2436 2443 2457 2464 2471 2478 2492 2499 2506 2513 2527 2534 2541 2548 2562 2569 2576 2583 2597 2604 2611 2618 2632 2639 2646 2653 2667 2674 2681 2688 2702 2709 2716 2723 2737 2744 2751 2758 2772 2779 2786 2793 2807 2814 2821 2828 2842 2849 2856 2863 2877 2884 2891 2898 2912 2919 2926 2933 2947 2954 2961 2968 2982 2989 2996 3003 3017 3024 3031 3038 3052 3059 3066 3073 3087 3094 3101 3108 3122 3129 3136 3143 3157 3164 3171 3178 3192 3199 "
     ]
    }
   ],
   "source": [
    "#Question_1\n",
    "for i in range(2000,3201,1):\n",
    "    if (i%7==0) and (i%5!=0):\n",
    "        print(i,sep=' ', end=' ', flush=True)"
   ]
  },
  {
   "cell_type": "code",
   "execution_count": 1,
   "metadata": {},
   "outputs": [
    {
     "name": "stdin",
     "output_type": "stream",
     "text": [
      "Enter a positive integer 5\n"
     ]
    },
    {
     "name": "stdout",
     "output_type": "stream",
     "text": [
      "120\n"
     ]
    }
   ],
   "source": [
    "#Question_2\n",
    "x=input(\"Enter a positive integer\")\n",
    "if(x.isnumeric()):\n",
    "    y=1\n",
    "    x=int(x)\n",
    "    for i in range(1,x+1,1):\n",
    "        y=y*i\n",
    "    print(y)  \n",
    "else:\n",
    "    print(\"That is not a positive integer\")"
   ]
  },
  {
   "cell_type": "code",
   "execution_count": 2,
   "metadata": {},
   "outputs": [
    {
     "name": "stdin",
     "output_type": "stream",
     "text": [
      "Choose the integral number (positive integer) 7\n"
     ]
    },
    {
     "name": "stdout",
     "output_type": "stream",
     "text": [
      "{1: 1, 2: 4, 3: 9, 4: 16, 5: 25, 6: 36, 7: 49}\n"
     ]
    }
   ],
   "source": [
    "#Question_3\n",
    "x=input(\"Choose the integral number (positive integer)\")\n",
    "if(x.isnumeric()):\n",
    "    x=int(x)\n",
    "    Dict={}\n",
    "    for i in range(1,x+1,1):\n",
    "        Dict[i]=i*i\n",
    "    print(Dict) \n",
    "else:\n",
    "    print(\"Please verify your input\")"
   ]
  },
  {
   "cell_type": "code",
   "execution_count": 3,
   "metadata": {},
   "outputs": [
    {
     "name": "stdin",
     "output_type": "stream",
     "text": [
      "Enter a non-empty string kitten\n",
      "Enter the index of the character you want to remove 2\n"
     ]
    },
    {
     "name": "stdout",
     "output_type": "stream",
     "text": [
      "kiten\n"
     ]
    }
   ],
   "source": [
    "#Question_4\n",
    "ch=input(\"Enter a non-empty string\")\n",
    "if ch!=\"\":\n",
    "    n=input(\"Enter the index of the character you want to remove\")\n",
    "    if n.isnumeric():\n",
    "        n=int(n) \n",
    "        if n>=0 and n<len(ch):\n",
    "            ch=ch.replace(ch[n],'',1)\n",
    "            print(ch)\n",
    "        else:\n",
    "            print(\"The number should be between 0 and the length of the string minus 1\")\n",
    "    else:\n",
    "        print(\"Please make sure you enter a number\")\n",
    "else:\n",
    "    print(\"Please check your string input\")"
   ]
  },
  {
   "cell_type": "code",
   "execution_count": 4,
   "metadata": {},
   "outputs": [
    {
     "name": "stdout",
     "output_type": "stream",
     "text": [
      "Array:[[0 1]\n",
      " [2 3]\n",
      " [4 5]]\n",
      "Conversion to list:[[0, 1], [2, 3], [4, 5]]\n"
     ]
    }
   ],
   "source": [
    "#Question_5\n",
    "import numpy as np\n",
    "arr=np.array ([[0,1],[2,3],[4,5]]) \n",
    "liste=arr.tolist()\n",
    "print(f'Array:{arr}')\n",
    "print(f'Conversion to list:{liste}')"
   ]
  },
  {
   "cell_type": "code",
   "execution_count": 5,
   "metadata": {},
   "outputs": [
    {
     "name": "stdin",
     "output_type": "stream",
     "text": [
      "Enter the size of the arrays 3\n",
      "Enter element number 0 of the first array  0\n",
      "Enter element number 1 of the first array  1\n",
      "Enter element number 2 of the first array  2\n",
      "Enter element number 0 of the second array  2\n",
      "Enter element number 1 of the second array  1\n",
      "Enter element number 2 of the second array  0\n"
     ]
    },
    {
     "name": "stdout",
     "output_type": "stream",
     "text": [
      "[[ 1. -1.]\n",
      " [-1.  1.]]\n"
     ]
    }
   ],
   "source": [
    "#Question_6\n",
    "n=input(\"Enter the size of the arrays\")\n",
    "import numpy as np\n",
    "if n.isnumeric():\n",
    "    n=int(n)\n",
    "    arr1=np.empty(n)\n",
    "    arr2=np.empty(n)\n",
    "    for i in range(n):\n",
    "        arr1[i]=int(input(f\"Enter element number {i} of the first array \"))\n",
    "    for j in range(n):\n",
    "        arr2[j]=int(input(f\"Enter element number {j} of the second array \"))\n",
    "    mat=np.cov(arr1,arr2)\n",
    "    print(mat)\n",
    "else:\n",
    "    print(\"Please enter a number\")"
   ]
  },
  {
   "cell_type": "code",
   "execution_count": 6,
   "metadata": {},
   "outputs": [
    {
     "name": "stdin",
     "output_type": "stream",
     "text": [
      "Enter the value of D 100\n"
     ]
    },
    {
     "name": "stdout",
     "output_type": "stream",
     "text": [
      "18\n"
     ]
    }
   ],
   "source": [
    "#Question_7\n",
    "import math\n",
    "d=int(input(\"Enter the value of D\"))\n",
    "d=round(math.sqrt((100*d)/30))\n",
    "print(d)"
   ]
  },
  {
   "cell_type": "code",
   "execution_count": null,
   "metadata": {},
   "outputs": [],
   "source": []
  }
 ],
 "metadata": {
  "kernelspec": {
   "display_name": "Python 3",
   "language": "python",
   "name": "python3"
  },
  "language_info": {
   "codemirror_mode": {
    "name": "ipython",
    "version": 3
   },
   "file_extension": ".py",
   "mimetype": "text/x-python",
   "name": "python",
   "nbconvert_exporter": "python",
   "pygments_lexer": "ipython3",
   "version": "3.8.3"
  }
 },
 "nbformat": 4,
 "nbformat_minor": 4
}
