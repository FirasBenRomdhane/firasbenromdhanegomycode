{
 "cells": [
  {
   "cell_type": "code",
   "execution_count": null,
   "metadata": {},
   "outputs": [],
   "source": [
    "#Question_1\n",
    "for i in range(2000,3201,1):\n",
    "    if (i%7==0) and (i%5!=0):\n",
    "        print(i,sep=' ', end=' ', flush=True)"
   ]
  },
  {
   "cell_type": "code",
   "execution_count": null,
   "metadata": {},
   "outputs": [],
   "source": [
    "#Question_2\n",
    "x=input(\"Enter a positive integer\")\n",
    "if(x.isnumeric()):\n",
    "    y=1\n",
    "    x=int(x)\n",
    "    for i in range(1,x+1,1):\n",
    "        y=y*i\n",
    "    print(y)  \n",
    "else:\n",
    "    print(\"That is not a positive integer\")"
   ]
  },
  {
   "cell_type": "code",
   "execution_count": null,
   "metadata": {},
   "outputs": [],
   "source": [
    "#Question_3\n",
    "x=input(\"Choose the integral number (positive integer)\")\n",
    "if(x.isnumeric()):\n",
    "    x=int(x)\n",
    "    Dict={}\n",
    "    for i in range(1,x+1,1):\n",
    "        Dict[i]=i*i\n",
    "    print(Dict) \n",
    "else:\n",
    "    print(\"Please verify your input\")"
   ]
  },
  {
   "cell_type": "code",
   "execution_count": null,
   "metadata": {},
   "outputs": [],
   "source": [
    "#Question_4\n",
    "ch=input(\"Enter a non-empty string\")\n",
    "if ch!=\"\":\n",
    "    n=input(\"Enter the index of the character you want to remove\")\n",
    "    if n.isnumeric():\n",
    "        n=int(n) \n",
    "        if n>=0 and n<len(ch):\n",
    "            ch=ch.replace(ch[n],'',1)\n",
    "            print(ch)\n",
    "        else:\n",
    "            print(\"The number should be between 0 and the length of the string minus 1\")\n",
    "    else:\n",
    "        print(\"Please make sure you enter a number\")\n",
    "else:\n",
    "    print(\"Please check your string input\")"
   ]
  },
  {
   "cell_type": "code",
   "execution_count": null,
   "metadata": {},
   "outputs": [],
   "source": [
    "#Question_5\n",
    "import numpy as np\n",
    "arr=np.array ([[0,1],[2,3],[4,5]]) \n",
    "liste=arr.tolist()\n",
    "print(f'Array:{arr}')\n",
    "print(f'Conversion to list:{liste}')"
   ]
  },
  {
   "cell_type": "code",
   "execution_count": null,
   "metadata": {},
   "outputs": [],
   "source": [
    "#Question_6\n",
    "n=input(\"Enter the size of the arrays\")\n",
    "import numpy as np\n",
    "if n.isnumeric():\n",
    "    n=int(n)\n",
    "    arr1=np.empty(n)\n",
    "    arr2=np.empty(n)\n",
    "    for i in range(n):\n",
    "        arr1[i]=int(input(f\"Enter element number {i} of the first array \"))\n",
    "    for j in range(n):\n",
    "        arr2[j]=int(input(f\"Enter element number {j} of the second array \"))\n",
    "    mat=np.cov(arr1,arr2)\n",
    "    print(mat)\n",
    "else:\n",
    "    print(\"Please enter a number\")"
   ]
  },
  {
   "cell_type": "code",
   "execution_count": null,
   "metadata": {},
   "outputs": [],
   "source": [
    "#Question_7\n",
    "import math\n",
    "d=int(input(\"Enter the value of D\"))\n",
    "d=round(math.sqrt((100*d)/30))\n",
    "print(d)"
   ]
  }
 ],
 "metadata": {
  "kernelspec": {
   "display_name": "Python 3",
   "language": "python",
   "name": "python3"
  },
  "language_info": {
   "codemirror_mode": {
    "name": "ipython",
    "version": 3
   },
   "file_extension": ".py",
   "mimetype": "text/x-python",
   "name": "python",
   "nbconvert_exporter": "python",
   "pygments_lexer": "ipython3",
   "version": "3.8.3"
  }
 },
 "nbformat": 4,
 "nbformat_minor": 4
}
